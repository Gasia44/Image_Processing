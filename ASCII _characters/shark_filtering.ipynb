{
 "cells": [
  {
   "cell_type": "markdown",
   "metadata": {},
   "source": [
    "# Setup"
   ]
  },
  {
   "cell_type": "code",
   "execution_count": 1,
   "metadata": {},
   "outputs": [],
   "source": [
    "import numpy as np\n",
    "import copy"
   ]
  },
  {
   "cell_type": "code",
   "execution_count": 2,
   "metadata": {},
   "outputs": [],
   "source": [
    "file = open(\"shark.txt\",'r') \n",
    "shark = file.readlines()"
   ]
  },
  {
   "cell_type": "code",
   "execution_count": 3,
   "metadata": {},
   "outputs": [],
   "source": [
    "shark= [shark[i].strip('\\n') for i in range(len(shark))]\n",
    "shark = [list(shark[i]) for i in range(len(shark))]"
   ]
  },
  {
   "cell_type": "code",
   "execution_count": 4,
   "metadata": {},
   "outputs": [],
   "source": [
    "def easy_print(array, end =' '):\n",
    "    for i in range(len(array)):\n",
    "        for j in range(len(array[i])):\n",
    "            print(array[i][j], end=end)\n",
    "        print()"
   ]
  },
  {
   "cell_type": "markdown",
   "metadata": {},
   "source": [
    "# --- 1 ---"
   ]
  },
  {
   "cell_type": "markdown",
   "metadata": {},
   "source": [
    "Write a code that loads the original ASCII image of the smiling shark from shark.txt file and writes\n",
    "in eq.txt file the equalized shape by substituting the original characters with equalized characters from the\n",
    "correspondence table."
   ]
  },
  {
   "cell_type": "code",
   "execution_count": 5,
   "metadata": {},
   "outputs": [],
   "source": [
    "char_before = [' ', '.', '_', '|', '\\\\', '/', 'o', '@']\n",
    "char_after = [' ', '.', '|', '|', '/', 'o', '@', '@']"
   ]
  },
  {
   "cell_type": "code",
   "execution_count": 6,
   "metadata": {},
   "outputs": [],
   "source": [
    "dictionary = dict(zip(char_before, char_after))"
   ]
  },
  {
   "cell_type": "code",
   "execution_count": 7,
   "metadata": {},
   "outputs": [
    {
     "data": {
      "text/plain": [
       "([' ', '.', '_', '|', '\\\\', '/', 'o', '@'],\n",
       " [' ', '.', '|', '|', '/', 'o', '@', '@'])"
      ]
     },
     "execution_count": 7,
     "metadata": {},
     "output_type": "execute_result"
    }
   ],
   "source": [
    "char_before, char_after"
   ]
  },
  {
   "cell_type": "code",
   "execution_count": 8,
   "metadata": {},
   "outputs": [],
   "source": [
    "shark_update = shark.copy()\n",
    "shark_update = copy.deepcopy(shark)\n",
    "for i in range(len(shark)):\n",
    "    for j in range(len(shark[i])):\n",
    "        shark_update[i][j] = dictionary[shark[i][j]]"
   ]
  },
  {
   "cell_type": "code",
   "execution_count": 9,
   "metadata": {},
   "outputs": [],
   "source": [
    "with open('eq.txt', 'w') as the_file:\n",
    "    for i in range(len(shark_update)):\n",
    "        the_file.write(''.join(shark_update[i]))\n",
    "        if(i!= len(shark_update) -1):\n",
    "            the_file.write('\\n')"
   ]
  },
  {
   "cell_type": "code",
   "execution_count": 10,
   "metadata": {},
   "outputs": [
    {
     "name": "stdout",
     "output_type": "stream",
     "text": [
      "                 \n",
      "  @ |.|o|.|@  @  \n",
      " @|o......./ @o| \n",
      " o|.@.//..../o|| \n",
      "  @o..oo....o/|| \n",
      " @ /|.|.|.|o@ /| \n",
      "                 \n"
     ]
    }
   ],
   "source": [
    "easy_print(shark_update, end ='')"
   ]
  },
  {
   "cell_type": "code",
   "execution_count": 11,
   "metadata": {},
   "outputs": [
    {
     "name": "stdout",
     "output_type": "stream",
     "text": [
      "                 \n",
      "  o _._/|._o  o  \n",
      " o_/.......\\ o/| \n",
      " /_.@.\\\\....\\/_| \n",
      "  o/..//..../\\_| \n",
      " o \\_._._._/o \\| \n",
      "                 \n"
     ]
    }
   ],
   "source": [
    "easy_print(shark, end ='')"
   ]
  },
  {
   "cell_type": "markdown",
   "metadata": {},
   "source": [
    "--------------------"
   ]
  },
  {
   "cell_type": "markdown",
   "metadata": {},
   "source": [
    "# --- 2 ---"
   ]
  },
  {
   "cell_type": "markdown",
   "metadata": {},
   "source": [
    "Write a code that reads shark.txt file, applies 3 x 3 median filter and saves the obtained ASCII image\n",
    "in med.txt file. To compute the median at the borders, assume the image is surrounded by white spaces."
   ]
  },
  {
   "cell_type": "code",
   "execution_count": 12,
   "metadata": {},
   "outputs": [],
   "source": [
    "import scipy.signal"
   ]
  },
  {
   "cell_type": "code",
   "execution_count": 13,
   "metadata": {},
   "outputs": [],
   "source": [
    "ascii_mat = np.zeros((len(shark), len(shark[0])))\n",
    "for i in range(len(shark)):\n",
    "    for j in range(len(shark[i])):\n",
    "        ascii_mat[i][j]= ord(shark[i][j])"
   ]
  },
  {
   "cell_type": "code",
   "execution_count": 14,
   "metadata": {},
   "outputs": [],
   "source": [
    "median_filter = scipy.signal.medfilt(ascii_mat, kernel_size=3)"
   ]
  },
  {
   "cell_type": "code",
   "execution_count": 15,
   "metadata": {},
   "outputs": [],
   "source": [
    "shark_update_median_filter = copy.deepcopy(shark)\n",
    "for i in range(len(median_filter)):\n",
    "    for j in range(len(median_filter[i])):\n",
    "        shark_update_median_filter[i][j]= chr((int)(median_filter[i][j]))"
   ]
  },
  {
   "cell_type": "code",
   "execution_count": 16,
   "metadata": {},
   "outputs": [],
   "source": [
    "len_col = len(shark_update_median_filter[i])\n",
    "len_row = len(shark_update_median_filter)\n",
    "\n",
    "shark_update_median_filter[0][len_col -1] =' '\n",
    "shark_update_median_filter[0][0] =' '\n",
    "\n",
    "shark_update_median_filter[len_row -1][len_col -1] =' '\n",
    "shark_update_median_filter[len_row -1][0] =' '"
   ]
  },
  {
   "cell_type": "code",
   "execution_count": 17,
   "metadata": {},
   "outputs": [],
   "source": [
    "with open('med.txt', 'w') as the_file:\n",
    "    for i in range(len(shark_update_median_filter)):\n",
    "        the_file.write(''.join(shark_update_median_filter[i]))\n",
    "        if(i!= len(shark_update_median_filter) -1):\n",
    "            the_file.write('\\n')"
   ]
  },
  {
   "cell_type": "code",
   "execution_count": 18,
   "metadata": {},
   "outputs": [
    {
     "name": "stdout",
     "output_type": "stream",
     "text": [
      "                 \n",
      "   ........      \n",
      " //@.../....//_/ \n",
      " ///......../\\__ \n",
      "  /@.///...//\\__ \n",
      "   ........../\\  \n",
      "                 \n"
     ]
    }
   ],
   "source": [
    "easy_print(shark_update_median_filter, end = '')"
   ]
  },
  {
   "cell_type": "code",
   "execution_count": 19,
   "metadata": {},
   "outputs": [
    {
     "name": "stdout",
     "output_type": "stream",
     "text": [
      "32.0  32.0  32.0  32.0  32.0  32.0  32.0  32.0  32.0  32.0  32.0  32.0  32.0  32.0  32.0  32.0  32.0  \n",
      "32.0  32.0  111.0  32.0  95.0  46.0  95.0  47.0  124.0  46.0  95.0  111.0  32.0  32.0  111.0  32.0  32.0  \n",
      "32.0  111.0  95.0  47.0  46.0  46.0  46.0  46.0  46.0  46.0  46.0  92.0  32.0  111.0  47.0  124.0  32.0  \n",
      "32.0  47.0  95.0  46.0  64.0  46.0  92.0  92.0  46.0  46.0  46.0  46.0  92.0  47.0  95.0  124.0  32.0  \n",
      "32.0  32.0  111.0  47.0  46.0  46.0  47.0  47.0  46.0  46.0  46.0  46.0  47.0  92.0  95.0  124.0  32.0  \n",
      "32.0  111.0  32.0  92.0  95.0  46.0  95.0  46.0  95.0  46.0  95.0  47.0  111.0  32.0  92.0  124.0  32.0  \n",
      "32.0  32.0  32.0  32.0  32.0  32.0  32.0  32.0  32.0  32.0  32.0  32.0  32.0  32.0  32.0  32.0  32.0  \n"
     ]
    }
   ],
   "source": [
    "easy_print(ascii_mat, end = '  ')"
   ]
  },
  {
   "cell_type": "code",
   "execution_count": 20,
   "metadata": {},
   "outputs": [
    {
     "name": "stdout",
     "output_type": "stream",
     "text": [
      "0.0  32.0  32.0  32.0  32.0  32.0  32.0  32.0  32.0  32.0  32.0  32.0  32.0  32.0  32.0  32.0  0.0  \n",
      "32.0  32.0  32.0  46.0  46.0  46.0  46.0  46.0  46.0  46.0  46.0  32.0  32.0  32.0  32.0  32.0  32.0  \n",
      "32.0  47.0  47.0  64.0  46.0  46.0  46.0  47.0  46.0  46.0  46.0  46.0  47.0  47.0  95.0  47.0  32.0  \n",
      "32.0  47.0  47.0  47.0  46.0  46.0  46.0  46.0  46.0  46.0  46.0  46.0  47.0  92.0  95.0  95.0  32.0  \n",
      "32.0  32.0  47.0  64.0  46.0  47.0  47.0  47.0  46.0  46.0  46.0  47.0  47.0  92.0  95.0  95.0  32.0  \n",
      "32.0  32.0  32.0  46.0  46.0  46.0  46.0  46.0  46.0  46.0  46.0  46.0  46.0  47.0  92.0  32.0  32.0  \n",
      "0.0  32.0  32.0  32.0  32.0  32.0  32.0  32.0  32.0  32.0  32.0  32.0  32.0  32.0  32.0  32.0  0.0  \n"
     ]
    }
   ],
   "source": [
    "easy_print(median_filter, end = '  ')"
   ]
  },
  {
   "cell_type": "markdown",
   "metadata": {},
   "source": [
    "--------------"
   ]
  },
  {
   "cell_type": "code",
   "execution_count": 21,
   "metadata": {},
   "outputs": [],
   "source": [
    "file = open(\"eq.txt\",'r') \n",
    "eq = file.readlines()\n",
    "\n",
    "eq= [eq[i].strip('\\n') for i in range(len(eq))]\n",
    "eq = [list(eq[i]) for i in range(len(eq))]"
   ]
  },
  {
   "cell_type": "code",
   "execution_count": 22,
   "metadata": {},
   "outputs": [
    {
     "name": "stdout",
     "output_type": "stream",
     "text": [
      "                 \n",
      "  @ |.|o|.|@  @  \n",
      " @|o......./ @o| \n",
      " o|.@.//..../o|| \n",
      "  @o..oo....o/|| \n",
      " @ /|.|.|.|o@ /| \n",
      "                 \n"
     ]
    }
   ],
   "source": [
    "easy_print(eq, end = '')"
   ]
  },
  {
   "cell_type": "markdown",
   "metadata": {},
   "source": [
    "----------------------"
   ]
  },
  {
   "cell_type": "code",
   "execution_count": 23,
   "metadata": {},
   "outputs": [],
   "source": [
    "file = open(\"med.txt\",'r') \n",
    "med = file.readlines()\n",
    "\n",
    "med= [med[i].strip('\\n') for i in range(len(med))]\n",
    "med = [list(med[i]) for i in range(len(med))]"
   ]
  },
  {
   "cell_type": "code",
   "execution_count": 24,
   "metadata": {},
   "outputs": [
    {
     "name": "stdout",
     "output_type": "stream",
     "text": [
      "                 \n",
      "   ........      \n",
      " //@.../....//_/ \n",
      " ///......../\\__ \n",
      "  /@.///...//\\__ \n",
      "   ........../\\  \n",
      "                 \n"
     ]
    }
   ],
   "source": [
    "easy_print(med, end = '')"
   ]
  },
  {
   "cell_type": "markdown",
   "metadata": {},
   "source": [
    "# --- 3 ---"
   ]
  },
  {
   "cell_type": "markdown",
   "metadata": {},
   "source": [
    "Reuse the code from the previous task that reads eq.txt file, applies 3 x 3 median filter and appends\n",
    "the obtained ASCII image to the same med.txt file. Leave an empty line between the images in med.txt file."
   ]
  },
  {
   "cell_type": "code",
   "execution_count": 25,
   "metadata": {},
   "outputs": [],
   "source": [
    "file = open(\"eq.txt\",'r') \n",
    "eq = file.readlines()\n",
    "\n",
    "eq= [eq[i].strip('\\n') for i in range(len(eq))]\n",
    "eq = [list(eq[i]) for i in range(len(eq))]"
   ]
  },
  {
   "cell_type": "code",
   "execution_count": 26,
   "metadata": {},
   "outputs": [],
   "source": [
    "ascii_eq = np.zeros((len(eq), len(eq[0])))\n",
    "for i in range(len(eq)):\n",
    "    for j in range(len(eq[i])):\n",
    "        ascii_eq[i][j]= ord(eq[i][j])"
   ]
  },
  {
   "cell_type": "code",
   "execution_count": 27,
   "metadata": {},
   "outputs": [],
   "source": [
    "median_filter = scipy.signal.medfilt(ascii_eq, kernel_size=3)"
   ]
  },
  {
   "cell_type": "code",
   "execution_count": 28,
   "metadata": {},
   "outputs": [
    {
     "name": "stdout",
     "output_type": "stream",
     "text": [
      "0.0  32.0  32.0  32.0  32.0  32.0  32.0  32.0  32.0  32.0  32.0  32.0  32.0  32.0  32.0  32.0  0.0  \n",
      "32.0  32.0  32.0  46.0  46.0  46.0  46.0  46.0  46.0  46.0  46.0  32.0  32.0  32.0  32.0  32.0  32.0  \n",
      "32.0  64.0  64.0  64.0  46.0  46.0  46.0  47.0  46.0  46.0  46.0  46.0  47.0  64.0  111.0  64.0  32.0  \n",
      "32.0  64.0  111.0  64.0  46.0  46.0  46.0  46.0  46.0  46.0  46.0  46.0  47.0  111.0  124.0  124.0  32.0  \n",
      "32.0  32.0  64.0  64.0  46.0  47.0  47.0  47.0  46.0  46.0  46.0  47.0  47.0  64.0  124.0  124.0  32.0  \n",
      "32.0  32.0  32.0  46.0  46.0  46.0  46.0  46.0  46.0  46.0  46.0  46.0  46.0  47.0  47.0  32.0  32.0  \n",
      "0.0  32.0  32.0  32.0  32.0  32.0  32.0  32.0  32.0  32.0  32.0  32.0  32.0  32.0  32.0  32.0  0.0  \n"
     ]
    }
   ],
   "source": [
    "easy_print(median_filter, end = '  ')"
   ]
  },
  {
   "cell_type": "code",
   "execution_count": 29,
   "metadata": {},
   "outputs": [],
   "source": [
    "shark_update_median_filter_2 = copy.deepcopy(eq)\n",
    "for i in range(len(median_filter)):\n",
    "    for j in range(len(median_filter[i])):\n",
    "        shark_update_median_filter_2[i][j]= chr((int)(median_filter[i][j]))"
   ]
  },
  {
   "cell_type": "code",
   "execution_count": 30,
   "metadata": {},
   "outputs": [],
   "source": [
    "len_col = len(shark_update_median_filter_2[i])\n",
    "len_row = len(shark_update_median_filter_2)\n",
    "\n",
    "shark_update_median_filter_2[0][len_col -1] =' '\n",
    "shark_update_median_filter_2[0][0] =' '\n",
    "\n",
    "shark_update_median_filter_2[len_row -1][len_col -1] =' '\n",
    "shark_update_median_filter_2[len_row -1][0] =' '"
   ]
  },
  {
   "cell_type": "code",
   "execution_count": 31,
   "metadata": {},
   "outputs": [
    {
     "name": "stdout",
     "output_type": "stream",
     "text": [
      "                 \n",
      "   ........      \n",
      " @@@.../..../@o@ \n",
      " @o@......../o|| \n",
      "  @@.///...//@|| \n",
      "   ..........//  \n",
      "                 \n"
     ]
    }
   ],
   "source": [
    "easy_print(shark_update_median_filter_2, end='')"
   ]
  },
  {
   "cell_type": "code",
   "execution_count": 32,
   "metadata": {},
   "outputs": [],
   "source": [
    "with open('med.txt', 'a') as the_file:\n",
    "    the_file.write('\\n\\n')\n",
    "    for i in range(len(shark_update_median_filter_2)):\n",
    "        the_file.write(''.join(shark_update_median_filter_2[i]))\n",
    "        if(i!= len(shark_update_median_filter_2) -1):\n",
    "            the_file.write('\\n')"
   ]
  },
  {
   "cell_type": "markdown",
   "metadata": {},
   "source": [
    "---------------------"
   ]
  },
  {
   "cell_type": "code",
   "execution_count": 33,
   "metadata": {},
   "outputs": [],
   "source": [
    "file = open(\"med.txt\",'r') \n",
    "med = file.readlines()\n",
    "\n",
    "med= [med[i].strip('\\n') for i in range(len(med))]\n",
    "med = [list(med[i]) for i in range(len(med))]"
   ]
  },
  {
   "cell_type": "code",
   "execution_count": 34,
   "metadata": {},
   "outputs": [
    {
     "name": "stdout",
     "output_type": "stream",
     "text": [
      "                 \n",
      "   ........      \n",
      " //@.../....//_/ \n",
      " ///......../\\__ \n",
      "  /@.///...//\\__ \n",
      "   ........../\\  \n",
      "                 \n",
      "\n",
      "                 \n",
      "   ........      \n",
      " @@@.../..../@o@ \n",
      " @o@......../o|| \n",
      "  @@.///...//@|| \n",
      "   ..........//  \n",
      "                 \n"
     ]
    }
   ],
   "source": [
    "easy_print(med, end = '')"
   ]
  },
  {
   "cell_type": "markdown",
   "metadata": {},
   "source": [
    "---------------"
   ]
  },
  {
   "cell_type": "markdown",
   "metadata": {},
   "source": [
    "# --- 4 ---"
   ]
  },
  {
   "cell_type": "markdown",
   "metadata": {},
   "source": [
    "Write a code that reads shark.txt file, applies 3 x 3 mean filter and saves the obtained ASCII image\n",
    "in mean.txt file. To compute the mean at the borders, assume the image is surrounded by white spaces. Use\n",
    "the following numeric values:"
   ]
  },
  {
   "cell_type": "code",
   "execution_count": 35,
   "metadata": {},
   "outputs": [],
   "source": [
    "char_shark = [' ', '.', '_', '|', '\\\\', '/', 'o', '@']\n",
    "char_value = np.arange(len(char_shark)).tolist()"
   ]
  },
  {
   "cell_type": "code",
   "execution_count": 36,
   "metadata": {},
   "outputs": [],
   "source": [
    "dictionary = dict(zip(char_shark, char_value))"
   ]
  },
  {
   "cell_type": "code",
   "execution_count": 37,
   "metadata": {},
   "outputs": [
    {
     "data": {
      "text/plain": [
       "{' ': 0, '.': 1, '/': 5, '@': 7, '\\\\': 4, '_': 2, 'o': 6, '|': 3}"
      ]
     },
     "execution_count": 37,
     "metadata": {},
     "output_type": "execute_result"
    }
   ],
   "source": [
    "dictionary"
   ]
  },
  {
   "cell_type": "code",
   "execution_count": 38,
   "metadata": {},
   "outputs": [
    {
     "name": "stdout",
     "output_type": "stream",
     "text": [
      "                 \n",
      "  o _._/|._o  o  \n",
      " o_/.......\\ o/| \n",
      " /_.@.\\\\....\\/_| \n",
      "  o/..//..../\\_| \n",
      " o \\_._._._/o \\| \n",
      "                 \n"
     ]
    }
   ],
   "source": [
    "easy_print(shark, end ='')"
   ]
  },
  {
   "cell_type": "code",
   "execution_count": 39,
   "metadata": {},
   "outputs": [],
   "source": [
    "shark_numeric = copy.deepcopy(shark)\n",
    "for i in range(len(shark)):\n",
    "    for j in range(len(shark[i])):\n",
    "        shark_numeric[i][j] = dictionary[shark[i][j]]"
   ]
  },
  {
   "cell_type": "code",
   "execution_count": 40,
   "metadata": {},
   "outputs": [
    {
     "name": "stdout",
     "output_type": "stream",
     "text": [
      "00000000000000000\n",
      "00602125312600600\n",
      "06251111111406530\n",
      "05217144111145230\n",
      "00651155111154230\n",
      "06042121212560430\n",
      "00000000000000000\n"
     ]
    }
   ],
   "source": [
    "easy_print(shark_numeric, end = '')"
   ]
  },
  {
   "cell_type": "code",
   "execution_count": 41,
   "metadata": {},
   "outputs": [],
   "source": [
    "kernel = np.ones((3,3),np.float64)/9"
   ]
  },
  {
   "cell_type": "code",
   "execution_count": 42,
   "metadata": {},
   "outputs": [],
   "source": [
    "from scipy.ndimage import convolve\n",
    "convolution_mean_filter = convolve(shark_numeric, kernel)"
   ]
  },
  {
   "cell_type": "code",
   "execution_count": 43,
   "metadata": {},
   "outputs": [
    {
     "name": "stdout",
     "output_type": "stream",
     "text": [
      "00000001101000000\n",
      "01211011111111210\n",
      "12222222212223320\n",
      "12332222111233311\n",
      "12332222111233211\n",
      "01221111101222110\n",
      "00100000000111000\n"
     ]
    }
   ],
   "source": [
    "easy_print(convolution_mean_filter, end ='')"
   ]
  },
  {
   "cell_type": "code",
   "execution_count": 44,
   "metadata": {},
   "outputs": [],
   "source": [
    "dictionary_back = dict(zip(char_value, char_shark))"
   ]
  },
  {
   "cell_type": "code",
   "execution_count": 45,
   "metadata": {},
   "outputs": [],
   "source": [
    "mean_filter_shark = copy.deepcopy(shark)\n",
    "for i in range(len(mean_filter_shark)):\n",
    "    for j in range(len(mean_filter_shark[i])):\n",
    "        mean_filter_shark[i][j] = dictionary_back[convolution_mean_filter[i][j]]"
   ]
  },
  {
   "cell_type": "code",
   "execution_count": 46,
   "metadata": {},
   "outputs": [
    {
     "name": "stdout",
     "output_type": "stream",
     "text": [
      "       .. .      \n",
      " ._.. ........_. \n",
      ".________.___||_ \n",
      "._||____..._|||..\n",
      "._||____..._||_..\n",
      " .__..... .___.. \n",
      "  .        ...   \n"
     ]
    }
   ],
   "source": [
    "easy_print(mean_filter_shark, end ='')"
   ]
  },
  {
   "cell_type": "code",
   "execution_count": 47,
   "metadata": {},
   "outputs": [],
   "source": [
    "with open('mean.txt', 'w') as the_file:\n",
    "    for i in range(len(mean_filter_shark)):\n",
    "        the_file.write(''.join(mean_filter_shark[i]))\n",
    "        if(i!= len(shark_update_median_filter_2) -1):\n",
    "            the_file.write('\\n')"
   ]
  },
  {
   "cell_type": "markdown",
   "metadata": {},
   "source": [
    "-----------------"
   ]
  },
  {
   "cell_type": "code",
   "execution_count": 48,
   "metadata": {},
   "outputs": [],
   "source": [
    "file = open(\"mean.txt\",'r') \n",
    "mean = file.readlines()\n",
    "\n",
    "mean= [mean[i].strip('\\n') for i in range(len(mean))]\n",
    "mean = [list(mean[i]) for i in range(len(mean))]"
   ]
  },
  {
   "cell_type": "code",
   "execution_count": 49,
   "metadata": {},
   "outputs": [
    {
     "name": "stdout",
     "output_type": "stream",
     "text": [
      "       .. .      \n",
      " ._.. ........_. \n",
      ".________.___||_ \n",
      "._||____..._|||..\n",
      "._||____..._||_..\n",
      " .__..... .___.. \n",
      "  .        ...   \n"
     ]
    }
   ],
   "source": [
    "easy_print(mean, end='')"
   ]
  },
  {
   "cell_type": "markdown",
   "metadata": {},
   "source": [
    "----------------"
   ]
  },
  {
   "cell_type": "markdown",
   "metadata": {},
   "source": [
    "# -- 5 --"
   ]
  },
  {
   "cell_type": "markdown",
   "metadata": {},
   "source": [
    "Reuse the code from the previous task that reads shark.txt file, applies 3 x3 mean filter and appends\n",
    "the obtained ASCII image to the same mean.txt file. Leave an empty line between the images in mean.txt file.\n",
    "This time use different numeric values:"
   ]
  },
  {
   "cell_type": "code",
   "execution_count": 50,
   "metadata": {},
   "outputs": [],
   "source": [
    "char_shark = [' ', '.', '_', '|', '\\\\', '/', 'o', '@']\n",
    "char_value =[0, 1, 17, 27, 28, 29, 59, 68]"
   ]
  },
  {
   "cell_type": "code",
   "execution_count": 51,
   "metadata": {},
   "outputs": [],
   "source": [
    "dictionary = dict(zip(char_shark, char_value))"
   ]
  },
  {
   "cell_type": "code",
   "execution_count": 52,
   "metadata": {},
   "outputs": [
    {
     "data": {
      "text/plain": [
       "{' ': 0, '.': 1, '/': 29, '@': 68, '\\\\': 28, '_': 17, 'o': 59, '|': 27}"
      ]
     },
     "execution_count": 52,
     "metadata": {},
     "output_type": "execute_result"
    }
   ],
   "source": [
    "dictionary"
   ]
  },
  {
   "cell_type": "code",
   "execution_count": 53,
   "metadata": {},
   "outputs": [
    {
     "name": "stdout",
     "output_type": "stream",
     "text": [
      "                 \n",
      "  o _._/|._o  o  \n",
      " o_/.......\\ o/| \n",
      " /_.@.\\\\....\\/_| \n",
      "  o/..//..../\\_| \n",
      " o \\_._._._/o \\| \n",
      "                 \n"
     ]
    }
   ],
   "source": [
    "easy_print(shark, end ='')"
   ]
  },
  {
   "cell_type": "code",
   "execution_count": 54,
   "metadata": {},
   "outputs": [],
   "source": [
    "shark_numeric = copy.deepcopy(shark)\n",
    "for i in range(len(shark)):\n",
    "    for j in range(len(shark[i])):\n",
    "        shark_numeric[i][j] = dictionary[shark[i][j]]"
   ]
  },
  {
   "cell_type": "code",
   "execution_count": 55,
   "metadata": {},
   "outputs": [
    {
     "name": "stdout",
     "output_type": "stream",
     "text": [
      "0  0  0  0  0  0  0  0  0  0  0  0  0  0  0  0  0  \n",
      "0  0  59  0  17  1  17  29  27  1  17  59  0  0  59  0  0  \n",
      "0  59  17  29  1  1  1  1  1  1  1  28  0  59  29  27  0  \n",
      "0  29  17  1  68  1  28  28  1  1  1  1  28  29  17  27  0  \n",
      "0  0  59  29  1  1  29  29  1  1  1  1  29  28  17  27  0  \n",
      "0  59  0  28  17  1  17  1  17  1  17  29  59  0  28  27  0  \n",
      "0  0  0  0  0  0  0  0  0  0  0  0  0  0  0  0  0  \n"
     ]
    }
   ],
   "source": [
    "easy_print(shark_numeric, end = '  ')"
   ]
  },
  {
   "cell_type": "code",
   "execution_count": 56,
   "metadata": {},
   "outputs": [],
   "source": [
    "kernel = np.ones((3,3),np.float64)/9"
   ]
  },
  {
   "cell_type": "code",
   "execution_count": 57,
   "metadata": {},
   "outputs": [],
   "source": [
    "convolution_mean_filter = convolve(shark_numeric, kernel)"
   ]
  },
  {
   "cell_type": "code",
   "execution_count": 58,
   "metadata": {},
   "outputs": [
    {
     "name": "stdout",
     "output_type": "stream",
     "text": [
      "0 6 6 8 2 3 5 8 6 5 8 8 6 6 6 6 0 \n",
      "6 15 18 13 5 4 5 8 6 5 11 11 16 16 19 12 3 \n",
      "9 20 23 23 13 14 11 14 9 5 12 14 22 24 27 17 6 \n",
      "9 20 26 24 14 14 13 13 7 1 4 9 22 26 28 16 9 \n",
      "9 18 24 24 16 18 14 16 8 4 5 18 22 26 22 15 9 \n",
      "6 13 19 14 8 7 8 10 5 4 5 15 16 17 14 11 6 \n",
      "6 6 9 5 5 3 2 3 2 3 5 11 9 9 6 6 3 \n"
     ]
    }
   ],
   "source": [
    "easy_print(convolution_mean_filter, end=' ')"
   ]
  },
  {
   "cell_type": "code",
   "execution_count": 59,
   "metadata": {},
   "outputs": [],
   "source": [
    "for i in range(len(convolution_mean_filter)):\n",
    "    for j in range(len(convolution_mean_filter[i])):\n",
    "        val = convolution_mean_filter[i][j]\n",
    "        if val ==0:\n",
    "            convolution_mean_filter[i][j] = 0\n",
    "        elif val >= 1 and val < 17:\n",
    "            convolution_mean_filter[i][j] = 1\n",
    "        elif val >= 17 and val < 27:\n",
    "            convolution_mean_filter[i][j] = 17\n",
    "        elif val >= 27 and val < 28:\n",
    "            convolution_mean_filter[i][j] = 27\n",
    "        elif val >= 28 and val < 29:\n",
    "            convolution_mean_filter[i][j] = 28\n",
    "        elif val >= 29 and val < 59:\n",
    "            convolution_mean_filter[i][j] = 29\n",
    "        elif val >= 59 and val < 68:\n",
    "            convolution_mean_filter[i][j] = 59\n",
    "        else: \n",
    "             convolution_mean_filter[i][j] = 68"
   ]
  },
  {
   "cell_type": "code",
   "execution_count": 60,
   "metadata": {},
   "outputs": [],
   "source": [
    "dictionary_back = dict(zip(char_value, char_shark))"
   ]
  },
  {
   "cell_type": "code",
   "execution_count": 61,
   "metadata": {},
   "outputs": [],
   "source": [
    "mean_filter_shark = copy.deepcopy(shark)\n",
    "for i in range(len(mean_filter_shark)):\n",
    "    for j in range(len(mean_filter_shark[i])):\n",
    "        mean_filter_shark[i][j] = dictionary_back[convolution_mean_filter[i][j]]"
   ]
  },
  {
   "cell_type": "code",
   "execution_count": 62,
   "metadata": {},
   "outputs": [
    {
     "name": "stdout",
     "output_type": "stream",
     "text": [
      " ............... \n",
      ".._..........._..\n",
      ".___........__|_.\n",
      ".___........__\\..\n",
      ".___._.....____..\n",
      ".._.........._...\n",
      ".................\n"
     ]
    }
   ],
   "source": [
    "easy_print(mean_filter_shark, end ='')"
   ]
  },
  {
   "cell_type": "code",
   "execution_count": 63,
   "metadata": {},
   "outputs": [],
   "source": [
    "with open('mean.txt', 'a') as the_file:\n",
    "    the_file.write('\\n\\n')\n",
    "    for i in range(len(mean_filter_shark)):\n",
    "        the_file.write(''.join(mean_filter_shark[i]))\n",
    "        if(i!= len(mean_filter_shark) -1):\n",
    "            the_file.write('\\n')"
   ]
  },
  {
   "cell_type": "markdown",
   "metadata": {},
   "source": [
    "--------------------"
   ]
  },
  {
   "cell_type": "markdown",
   "metadata": {},
   "source": [
    "# --- 6 ---"
   ]
  },
  {
   "cell_type": "markdown",
   "metadata": {},
   "source": [
    "Reuse the code from the previous task that reads eq.txt file, applies 3 x 3 mean filter and appends the\n",
    "obtained ASCII image to the same mean.txt file. Leave an empty line between the images in mean.txt file.\n",
    "Use the original numeric values:"
   ]
  },
  {
   "cell_type": "code",
   "execution_count": 64,
   "metadata": {},
   "outputs": [],
   "source": [
    "char_shark = [' ', '.', '_', '|', '\\\\', '/', 'o', '@']\n",
    "char_value = np.arange(len(char_shark)).tolist()\n",
    "\n",
    "dictionary = dict(zip(char_shark, char_value))"
   ]
  },
  {
   "cell_type": "code",
   "execution_count": 65,
   "metadata": {},
   "outputs": [],
   "source": [
    "file = open(\"eq.txt\",'r') \n",
    "eq = file.readlines()\n",
    "\n",
    "eq = [eq[i].strip('\\n') for i in range(len(eq))]\n",
    "eq = [list(eq[i]) for i in range(len(eq))]"
   ]
  },
  {
   "cell_type": "code",
   "execution_count": 66,
   "metadata": {},
   "outputs": [],
   "source": [
    "eq_numeric = copy.deepcopy(eq)\n",
    "for i in range(len(eq)):\n",
    "    for j in range(len(eq[i])):\n",
    "        eq_numeric[i][j] = dictionary[eq[i][j]]"
   ]
  },
  {
   "cell_type": "code",
   "execution_count": 67,
   "metadata": {},
   "outputs": [
    {
     "name": "stdout",
     "output_type": "stream",
     "text": [
      "0 0 0 0 0 0 0 0 0 0 0 0 0 0 0 0 0 \n",
      "0 0 7 0 3 1 3 6 3 1 3 7 0 0 7 0 0 \n",
      "0 7 3 6 1 1 1 1 1 1 1 5 0 7 6 3 0 \n",
      "0 6 3 1 7 1 5 5 1 1 1 1 5 6 3 3 0 \n",
      "0 0 7 6 1 1 6 6 1 1 1 1 6 5 3 3 0 \n",
      "0 7 0 5 3 1 3 1 3 1 3 6 7 0 5 3 0 \n",
      "0 0 0 0 0 0 0 0 0 0 0 0 0 0 0 0 0 \n"
     ]
    }
   ],
   "source": [
    "easy_print(eq_numeric, end =' ')"
   ]
  },
  {
   "cell_type": "code",
   "execution_count": 68,
   "metadata": {},
   "outputs": [],
   "source": [
    "kernel = np.ones((3,3),np.float64)/9\n",
    "convolution_mean_filter = convolve(eq_numeric, kernel)"
   ]
  },
  {
   "cell_type": "code",
   "execution_count": 69,
   "metadata": {},
   "outputs": [
    {
     "name": "stdout",
     "output_type": "stream",
     "text": [
      "0 0 0 1 0 0 1 1 1 0 1 1 0 0 0 0 0 \n",
      "0 1 2 2 1 1 1 1 1 1 2 1 2 2 2 1 0 \n",
      "1 2 3 3 2 2 2 2 2 1 2 2 3 3 3 2 0 \n",
      "1 2 4 3 2 2 3 3 2 1 1 2 4 4 4 2 1 \n",
      "1 2 3 3 2 3 3 3 2 1 1 3 4 4 3 2 1 \n",
      "0 1 2 2 1 1 1 2 1 1 1 2 2 2 2 1 0 \n",
      "0 0 1 0 1 0 0 0 0 0 1 1 1 1 0 0 0 \n"
     ]
    }
   ],
   "source": [
    "easy_print(convolution_mean_filter)"
   ]
  },
  {
   "cell_type": "code",
   "execution_count": 70,
   "metadata": {},
   "outputs": [],
   "source": [
    "dictionary_back = dict(zip(char_value, char_shark))\n",
    "\n",
    "mean_filter_eq = copy.deepcopy(eq)\n",
    "for i in range(len(convolution_mean_filter)):\n",
    "    for j in range(len(convolution_mean_filter[i])):\n",
    "        mean_filter_eq[i][j] = dictionary_back[convolution_mean_filter[i][j]]"
   ]
  },
  {
   "cell_type": "code",
   "execution_count": 71,
   "metadata": {},
   "outputs": [
    {
     "name": "stdout",
     "output_type": "stream",
     "text": [
      "   .  ... ..     \n",
      " .__......_.___. \n",
      "._||_____.__|||_ \n",
      "._\\|__||_.._\\\\\\_.\n",
      "._||_|||_..|\\\\|_.\n",
      " .__..._...____. \n",
      "  . .     ....   \n"
     ]
    }
   ],
   "source": [
    "easy_print(mean_filter_eq, end='')"
   ]
  },
  {
   "cell_type": "code",
   "execution_count": 72,
   "metadata": {},
   "outputs": [],
   "source": [
    "with open('mean.txt', 'a') as the_file:\n",
    "    the_file.write('\\n\\n')\n",
    "    for i in range(len(mean_filter_eq)):\n",
    "        the_file.write(''.join(mean_filter_eq[i]))\n",
    "        if(i!= len(mean_filter_eq) -1):\n",
    "            the_file.write('\\n')"
   ]
  },
  {
   "cell_type": "markdown",
   "metadata": {},
   "source": [
    "---------------"
   ]
  },
  {
   "cell_type": "markdown",
   "metadata": {},
   "source": [
    "# THE END"
   ]
  }
 ],
 "metadata": {
  "kernelspec": {
   "display_name": "Python 3",
   "language": "python",
   "name": "python3"
  },
  "language_info": {
   "codemirror_mode": {
    "name": "ipython",
    "version": 3
   },
   "file_extension": ".py",
   "mimetype": "text/x-python",
   "name": "python",
   "nbconvert_exporter": "python",
   "pygments_lexer": "ipython3",
   "version": "3.6.4"
  }
 },
 "nbformat": 4,
 "nbformat_minor": 2
}
